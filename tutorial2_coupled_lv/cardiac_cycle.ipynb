{
 "cells": [
  {
   "cell_type": "markdown",
   "id": "290968a4-8235-40b5-97ae-0afb2478c4c6",
   "metadata": {},
   "source": [
    "# Cardiac Mechanics Tutorial\n",
    "### Cardiac Biomechanics Lab @ UofM\n",
    "### Prof. David Nordsletten\n",
    "\n",
    "#### @author: Javiera Jilberto Vallejos (jilberto@umich.edu) and Marc Hirschvogel (marc.hirschvogel@deepambit.com)\n",
    "This tutorial uses the [ambit](https://github.com/marchirschvogel/ambit) package to solve a 3D-0D simulation of a left ventricle (3D) coupled with the cardiovascular system (0D)."
   ]
  },
  {
   "cell_type": "markdown",
   "id": "b706fb09-e393-422b-9799-315338e77b18",
   "metadata": {},
   "source": [
    "Import packages. **NOTE**: Before continuing, be sure to have ambit installed (see the instructions [here](https://github.com/javijv4/cardiac-mechanics-tutorial#tutorials))"
   ]
  },
  {
   "cell_type": "code",
   "execution_count": 1,
   "id": "aef5bd2e-077b-4391-8215-698c1152e246",
   "metadata": {},
   "outputs": [],
   "source": [
    "import os\n",
    "import ambit_fe\n",
    "import numpy as np\n",
    "\n",
    "data_path = 'data'\n",
    "out_path = 'out'\n",
    "\n",
    "if not os.path.exists(out_path): os.mkdir(out_path)     # Make sure the output path exists"
   ]
  },
  {
   "cell_type": "markdown",
   "id": "45eecb7f-f686-45f0-8334-f871dc1884bb",
   "metadata": {},
   "source": [
    "### Setting up the simulation\n",
    "AMBIT receives a bunch of python dictionaries that describe the inputs, options, and outputs. In this notebook we will describe the inputs for setting up the 3D LV/0D cardiovascular system. "
   ]
  },
  {
   "cell_type": "markdown",
   "id": "3a54fc96-aa93-47e9-a62f-7824ee4dc08c",
   "metadata": {},
   "source": [
    "#### Input/Output parameters (IO_PARAMS)\n",
    "This dictionary defines the input meshes, fibers and all the options to generate the outputs."
   ]
  },
  {
   "cell_type": "code",
   "execution_count": 2,
   "id": "8fa3f06a-3072-4faa-b920-ba66c18135d9",
   "metadata": {},
   "outputs": [],
   "source": [
    "IO_PARAMS            = {'problem_type'          : 'solid_flow0d',            # Defines the type of problem to be solved\n",
    "                        # Inputs\n",
    "                        'mesh_domain'           : data_path + '/mesh.xdmf',   # Path to mesh\n",
    "                        'mesh_boundary'         : data_path + '/mt.xdmf',     # Path to boundary file\n",
    "                        'order_fib_input'       : 1,                         # Define the interpolation order of the fibers \n",
    "                        'fiber_data'            : [data_path + '/fiber.txt', data_path + '/sheet.txt', data_path + '/sheetnormal.txt'],  # Path to fibers (f,s,n)\n",
    "                        # Output options\n",
    "                        'output_path'           : out_path,           # Path where the results will be saved              \n",
    "                        'write_results_every'   : 10,                 # Saving steps every n time steps \n",
    "                        'write_restart_every'   : 100,                # This saves the simulation info such that it can be restarted \n",
    "                        'results_to_write'      : ['displacement', 'pressure', 'fibers'],  # Which results to write\n",
    "                        'simname'               : 'test'             # Name of the simulation, all the results will have this name\n",
    "                       }"
   ]
  },
  {
   "cell_type": "markdown",
   "id": "a5bd8a98-16f4-4dab-9408-5f3a71d34e30",
   "metadata": {},
   "source": [
    "#### Solver Parameters (SOLVER_PARAMS)\n",
    "This dictionary sets up how the non-linear problem will be solved."
   ]
  },
  {
   "cell_type": "code",
   "execution_count": 3,
   "id": "ae0e3173-faf0-4ae9-a8de-2fe627d23ccc",
   "metadata": {},
   "outputs": [],
   "source": [
    "SOLVER_PARAMS        = {'solve_type'            : 'direct',          # Linear Algebra solver (direct or iterative)\n",
    "                        'tol_res'               : [1.0e-8,1.0e-8,1.0e-6],   # Residual tolerance for [displacements, pressure, 0D problem]\n",
    "                        'tol_inc'               : [1.0e-8,1.0e-8,1.0e-6],   # Increment tolerance for [displacements, pressure, 0D problem]\n",
    "                        }   "
   ]
  },
  {
   "cell_type": "markdown",
   "id": "a20d117d-87be-4e31-af37-23c2f383608e",
   "metadata": {},
   "source": [
    "#### Simulation time parameters for the solid (3D) problem (TIME_PARAMS_SOLID)\n",
    "This dictionary defines the final time of the simulation, the total number of timesteps to be used, and the time integration scheme used to solve the problem. Note that the time stepping $\\Delta t$ can be computed using `maxtime`/`numstep`."
   ]
  },
  {
   "cell_type": "code",
   "execution_count": 4,
   "id": "90783991-f6cf-4914-a68a-361bede30e7d",
   "metadata": {},
   "outputs": [],
   "source": [
    "TIME_PARAMS_SOLID    = {'maxtime'               : 10.0,      # Final time. In this case is 10 sec.\n",
    "                        'numstep'               : 5000,      # Solving the 10 sec using 5000 timesteps, i.e., dt=0.002\n",
    "                        'numstep_stop'          : 5000,      # If you want to stop the simulation before set this to whatever timestep you want to stop\n",
    "                        'timint'                : 'ost',     # Time integration scheme. This is the trapezoidal rule\n",
    "                        'theta_ost'             : 1.0}       # Trapezoidal rule parameter. 1.0 means backward euler."
   ]
  },
  {
   "cell_type": "markdown",
   "id": "a167b244-de9e-41e5-97f7-c94940d104f9",
   "metadata": {},
   "source": [
    "#### Simulation time parameters for the flow (0D) problem (TIME_PARAMS_FLOW0D)\n",
    "This dictionary defines the time integration scheme used to solve the problem. Note that we need to provide initial conditions. We defined these using the init() function."
   ]
  },
  {
   "cell_type": "code",
   "execution_count": 5,
   "id": "3fee0c6d-2c54-4abf-925d-4ed1f97b96c9",
   "metadata": {},
   "outputs": [],
   "source": [
    "def init():\n",
    "\n",
    "    factor_kPa_mmHg = 7.500615\n",
    "\n",
    "    return {'q_vin_l_0' : 0.0,\n",
    "            'p_at_l_0' : 10.0/factor_kPa_mmHg,\n",
    "            'q_vout_l_0' : 0.0,\n",
    "            'p_v_l_0' : 10.0/factor_kPa_mmHg,\n",
    "            'p_ar_sys_0' : 90.29309546/factor_kPa_mmHg,\n",
    "            'q_ar_sys_0' : 0.0,\n",
    "            'Q_v_l_0' : 0.0,\n",
    "            'p_ven_sys_0' : 17.0/factor_kPa_mmHg,\n",
    "            'q_ven_sys_0' : 0.0,\n",
    "            'q_vin_r_0' : 0.0,\n",
    "            'p_at_r_0' : 10.0/(5.*factor_kPa_mmHg),\n",
    "            'q_vout_r_0' : 0.0,\n",
    "            'p_v_r_0' : 10.0/(5.*factor_kPa_mmHg),\n",
    "            'p_ar_pul_0' : 90.29309546/(5.*factor_kPa_mmHg),\n",
    "            'q_ar_pul_0' : 0.0,\n",
    "            'q_cap_pul_0' : 0.0,\n",
    "            'p_ven_pul_0' : 12.0/factor_kPa_mmHg,\n",
    "            'q_ven_pul_0' : 0.0}\n",
    "\n",
    "\n",
    "TIME_PARAMS_FLOW0D   = {'timint'                : 'ost',      # Use trapezoidal rule\n",
    "                        'theta_ost'             : 1.0,        # Trapezoidal rule parameter. 1.0 means backward euler.\n",
    "                        'initial_conditions'    : init()}     # Initial conditions of the 0D problem"
   ]
  },
  {
   "cell_type": "markdown",
   "id": "457f89a6-a67e-4ced-bf40-4841a62468fd",
   "metadata": {},
   "source": [
    "#### Simulation parameters for the coupled 0D problem\n",
    "This dictionary is very important as it defines the type of 0D problem and the way the different chambers in the heart are going to be represented in the system. \n",
    "\n",
    "Ambit can handle different cardiovascular representations, from very simple Windkessel models to more complex ODEs representing the different compartments of the cardiovascular system, such as the coronaries or the pulmonary circulation. In this case we use the `syspul` ODE, which represents the systemic and pulmonary systems. We need to provide values for each of the parameters in the ODE. \n",
    "\n",
    "The `chamber_models` option defines which chambers are solved using a 3D or a 0D model. "
   ]
  },
  {
   "cell_type": "code",
   "execution_count": 6,
   "id": "ed9759eb-09a6-4133-80de-359333239e1f",
   "metadata": {},
   "outputs": [],
   "source": [
    "def param():\n",
    "    return {'R_ar_sys' : 0.00012173913043478261,\n",
    "            'C_ar_sys' : 12321.42857142857,\n",
    "            'L_ar_sys' : 6.67e-07,\n",
    "            'Z_ar_sys' : 6.086956521739131e-06,\n",
    "            'R_ar_pul' : 7.699999999999999e-06,\n",
    "            'C_ar_pul' : 19714.285714285714,\n",
    "            'L_ar_pul' : 1e-08,\n",
    "            'Z_ar_pul' : 0.,\n",
    "            'R_ven_sys' : 1.8260869565217376e-05,\n",
    "            'C_ven_sys' : 369642.8571428571,\n",
    "            'L_ven_sys' : 1e-08,\n",
    "            'R_ven_pul' : 6.299999999999999e-0,\n",
    "            'C_ven_pul' : 49285.71428571428,\n",
    "            'L_ven_pul' : 1e-08,\n",
    "            # atrial elastances\n",
    "            'E_at_max_l' : 39e-06,\n",
    "            'E_at_min_l' : 1.8e-05,\n",
    "            'E_at_max_r' : 12e-06,\n",
    "            'E_at_min_r' : 8e-06,\n",
    "            # ventricular elastances\n",
    "            'E_v_max_l' : 20e-05,\n",
    "            'E_v_min_l' : 1e-05,\n",
    "            'E_v_max_r' : 5e-05,\n",
    "            'E_v_min_r' : 4e-06,\n",
    "            # valve resistances\n",
    "            'R_vin_l_min' : 1.0e-6,\n",
    "            'R_vin_l_max' : 1.0e1,\n",
    "            'R_vout_l_min' : 1.0e-6,\n",
    "            'R_vout_l_max' : 1.0e1,\n",
    "            'R_vin_r_min' : 1.0e-6,\n",
    "            'R_vin_r_max' : 1.0e1,\n",
    "            'R_vout_r_min' : 1.0e-6,\n",
    "            'R_vout_r_max' : 1.0e1,\n",
    "            # timings\n",
    "            't_ed' : 0.139,\n",
    "            't_es' : 0.535,\n",
    "            'T_cycl' : 1.0,\n",
    "            }\n",
    "\n",
    "# Define atrial and ventricle activation curves\n",
    "class time_curves():\n",
    "\n",
    "    def tc1(self, t):\n",
    "        K = 5.\n",
    "        t_contr, t_relax = 0.139, 0.535\n",
    "        alpha_max = MATERIALS['MAT1']['active_fiber']['alpha_max']\n",
    "        alpha_min = MATERIALS['MAT1']['active_fiber']['alpha_min']\n",
    "        c1 = t_contr + alpha_max/(K*(alpha_max-alpha_min))\n",
    "        c2 = t_relax - alpha_max/(K*(alpha_max-alpha_min))\n",
    "\n",
    "        # Diss Hirschvogel eq. 2.101\n",
    "        return (K*(t-c1)+1.)*((K*(t-c1)+1.)>0.) - K*(t-c1)*((K*(t-c1))>0.) - K*(t-c2)*((K*(t-c2))>0.) + (K*(t-c2)-1.)*((K*(t-c2)-1.)>0.)\n",
    "\n",
    "\n",
    "    def tc2(self, t): # atrial activation\n",
    "\n",
    "        act_dur = 2.*param()['t_ed']\n",
    "        t0 = 0.\n",
    "\n",
    "        if t >= t0 and t <= t0 + act_dur:\n",
    "            return 0.5*(1.-np.cos(2.*np.pi*(t-t0)/act_dur))\n",
    "        else:\n",
    "            return 0.0\n",
    "\n",
    "MODEL_PARAMS_FLOW0D  = {'modeltype'             : 'syspul',     # Type of 0D circulation\n",
    "                        'parameters'            : param(),      # Parameters for the 0D problem\n",
    "                        'chamber_models'        : {'lv' : {'type' : '3D_solid'},       # The LV is 3D\n",
    "                                                   'rv' : {'type' : '0D_elast', 'activation_curve' : 1},  # The other chambers are represented by 0D elastance models\n",
    "                                                   'la' : {'type' : '0D_elast', 'activation_curve' : 2},  # The activation curve is also defined here and it points to the class defined earlier.\n",
    "                                                   'ra' : {'type' : '0D_elast', 'activation_curve' : 2}}}"
   ]
  },
  {
   "cell_type": "markdown",
   "id": "e0463a93-abba-4991-9eed-28b41378facd",
   "metadata": {},
   "source": [
    "#### Finite element parameters (FEM_PARAMS)\n",
    "This define the finite element discretization used to solve the 3D problem. For the purposes of this parameter we are going to use a P1/P1 discretization for displacement and pressure, but this can be easily changed to a P2/P1 discretization. "
   ]
  },
  {
   "cell_type": "code",
   "execution_count": 7,
   "id": "bddfc9ab-a3da-4d43-8a72-87da0891ecfc",
   "metadata": {},
   "outputs": [],
   "source": [
    "FEM_PARAMS           = {'order_disp'            : 1,\n",
    "                        'order_pres'            : 1,\n",
    "                        'quad_degree'           : 4,       # Quadrature degree\n",
    "                        'incompressible_2field' : True}    # If using or not the pressure field"
   ]
  },
  {
   "cell_type": "markdown",
   "id": "ae378668-01ae-4a68-b512-b63c0b0bf70f",
   "metadata": {},
   "source": [
    "#### Coupling parameters (COUPLING_PARAMS)\n",
    "This dictionary defines the coupling between the 3D and the 0D model. For every chamber that we set to `3D_solid` in the `MODEL_PARAMS_FLOW0D` we need to define what surface serves as the coupling between the 3D and the 0D model and what quantity is used as the coupling between these two systems. In this case, we only have one 3D chamber, the LV, and the surface that defines the chamber has the label 3. In Tutorial 1, this surface was the one where the chamber pressure was applied. "
   ]
  },
  {
   "cell_type": "code",
   "execution_count": 8,
   "id": "83362d9e-5b29-4b34-a72b-8891e973e887",
   "metadata": {},
   "outputs": [],
   "source": [
    "COUPLING_PARAMS      = {'surface_ids'           : [[3]],   \n",
    "                        'surface_p_ids'         : [[3]],          \n",
    "                        'coupling_quantity'     : ['flux'],             # The change in volume (flux) will be the coupling quantity\n",
    "                        'coupling_type'         : 'monolithic_direct'}  # How is the coupled system going to be solved. "
   ]
  },
  {
   "cell_type": "markdown",
   "id": "79242d6c-7c82-4eb3-80de-6dfc738fece3",
   "metadata": {},
   "source": [
    "#### Material parameters (MATERIALS)\n",
    "Here is where the materials to be used in the 3D model are defined. We will use a Holzapfel-Ogden material with a length-dependent (Frank-Starling) activation in the fiber direction. \n",
    "Since this is a transient simulation, we need to define the density of the model and we also add a viscous term that will help dissipate unwanted oscillations. "
   ]
  },
  {
   "cell_type": "code",
   "execution_count": 9,
   "id": "7b78834d-c582-4e7e-b466-90a9a682cf6f",
   "metadata": {},
   "outputs": [],
   "source": [
    "MATERIALS            = {'MAT1' : {'holzapfelogden_dev' : {'a_0' : 0.4, 'b_0' : 3.2, 'a_f' : 1.0, 'b_f' : 5, 'a_s' : 0., 'b_s' : 0.1, 'a_fs' : 0., 'b_fs' : 0.1, 'fiber_comp' : False},\n",
    "                                  'active_fiber'      : {'sigma0' : 80.0, 'alpha_max' : 15.0, 'alpha_min' : -20.0, 'activation_curve' : 1, 'frankstarling' : False, 'amp_min' : 1., 'amp_max' : 1.7, 'lam_threslo' : 1.01, 'lam_maxlo' : 1.15, 'lam_threshi' : 999., 'lam_maxhi' : 9999.},\n",
    "                                  'inertia'           : {'rho0' : 1.0e-6},\n",
    "                                  'visco_green'       : {'eta' : 0.1}}}\n"
   ]
  },
  {
   "cell_type": "markdown",
   "id": "254848f2-602d-487b-86be-04858fb88e75",
   "metadata": {},
   "source": [
    "#### Boundary conditions (BC_DICT)\n",
    "As in Tutorial 1, we fixed the base (label 2) in all directions. "
   ]
  },
  {
   "cell_type": "code",
   "execution_count": 10,
   "id": "ae5e01cd-9035-44f1-b341-7f6fae5fb845",
   "metadata": {},
   "outputs": [],
   "source": [
    "BC_DICT              = { 'dirichlet' : [{'id' : [2], 'dir' : 'all', 'val' : 0.}] }"
   ]
  },
  {
   "cell_type": "markdown",
   "id": "51d34b33-838d-4594-9197-d2ea91f0fcf2",
   "metadata": {},
   "source": [
    "### Define problem and solve\n",
    "We pass all the dictionaries to Ambit and then solve the problem. "
   ]
  },
  {
   "cell_type": "code",
   "execution_count": 11,
   "id": "43c2d426-7389-4197-87ab-9e0465187921",
   "metadata": {},
   "outputs": [
    {
     "name": "stdout",
     "output_type": "stream",
     "text": [
      "Reading in fibers ...\n",
      "Finished fiber read-in. Time: 0.1076 s\n",
      "ODE model: Calling lambdify for expressions...\n",
      "ODE model: Finished lambdify for residual expressions, 0.2166 s\n",
      "ODE model: Finished lambdify for stiffness expressions, 0.1968 s\n",
      "#####################################   AMBIT   #######################################\n",
      "#################### A FEniCS-based cardiovascular physics solver #####################\n",
      "########## Welcome to monolithic coupling of 3D solid mechanics and 0D flow ###########\n",
      "#######################################################################################\n",
      "Number of degrees of freedom: 1558\n",
      "Number of cores: 1\n",
      "File name: /home/jilberto/software/anaconda3/envs/cardiac-mechanics/lib/python3.10/site-packages/ipykernel_launcher.py\n",
      "Output specifier name: test\n",
      "#######################################################################################\n",
      "FEM form compilation for solid...\n",
      "FEM form compilation for solid finished, te = 0.11 s\n",
      "FEM form compilation for solid-0D coupling...\n",
      "FEM form compilation for solid-0D finished, te = 0.08 s\n"
     ]
    }
   ],
   "source": [
    "# problem setup\n",
    "problem = ambit_fe.ambit_main.Ambit(IO_PARAMS, [TIME_PARAMS_SOLID, TIME_PARAMS_FLOW0D], SOLVER_PARAMS, FEM_PARAMS, [MATERIALS, MODEL_PARAMS_FLOW0D], BC_DICT, time_curves=time_curves(), coupling_params=COUPLING_PARAMS)\n",
    "\n",
    "# problem solve\n",
    "#problem.solve_problem()"
   ]
  },
  {
   "cell_type": "code",
   "execution_count": null,
   "id": "8a281e3e-058b-449d-8754-83e6f0117e9a",
   "metadata": {},
   "outputs": [],
   "source": []
  }
 ],
 "metadata": {
  "kernelspec": {
   "display_name": "Python 3 (ipykernel)",
   "language": "python",
   "name": "python3"
  },
  "language_info": {
   "codemirror_mode": {
    "name": "ipython",
    "version": 3
   },
   "file_extension": ".py",
   "mimetype": "text/x-python",
   "name": "python",
   "nbconvert_exporter": "python",
   "pygments_lexer": "ipython3",
   "version": "3.10.12"
  }
 },
 "nbformat": 4,
 "nbformat_minor": 5
}
