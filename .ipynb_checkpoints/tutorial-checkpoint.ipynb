{
 "cells": [
  {
   "cell_type": "markdown",
   "id": "290968a4-8235-40b5-97ae-0afb2478c4c6",
   "metadata": {},
   "source": [
    "# Cardiac Mechanics Tutorial\n",
    "This tutorial uses dolfin-x to show how a cardiac mechanics simulation is usually performed. "
   ]
  },
  {
   "cell_type": "markdown",
   "id": "b706fb09-e393-422b-9799-315338e77b18",
   "metadata": {},
   "source": [
    "Import packages"
   ]
  },
  {
   "cell_type": "code",
   "execution_count": 1,
   "id": "aef5bd2e-077b-4391-8215-698c1152e246",
   "metadata": {},
   "outputs": [],
   "source": [
    "import numpy as np\n",
    "import ufl\n",
    "from mpi4py import MPI\n",
    "from petsc4py import PETSc\n",
    "from dolfinx import io, fem, nls"
   ]
  },
  {
   "cell_type": "markdown",
   "id": "45eecb7f-f686-45f0-8334-f871dc1884bb",
   "metadata": {},
   "source": [
    "Read the mesh and boundary information (meshtags)"
   ]
  },
  {
   "cell_type": "code",
   "execution_count": 2,
   "id": "8fa3f06a-3072-4faa-b920-ba66c18135d9",
   "metadata": {},
   "outputs": [],
   "source": [
    "data_path = 'data/'\n",
    "\n",
    "# Read mesh\n",
    "with io.XDMFFile(MPI.COMM_WORLD, data_path + 'mesh.xdmf', \"r\") as xdmf:\n",
    "    mesh = xdmf.read_mesh(name='Grid')\n",
    "\n",
    "# Read meshtags (boundary information)\n",
    "mesh.topology.create_connectivity(mesh.topology.dim-1, mesh.topology.dim)\n",
    "with io.XDMFFile(MPI.COMM_WORLD, data_path + 'mt.xdmf', \"r\") as xdmf:\n",
    "    meshtags = xdmf.read_meshtags(mesh, name=\"Grid\")\n",
    "\n",
    "# Define surface normal direction\n",
    "n0 = ufl.FacetNormal(mesh)\n",
    "\n",
    "# Define domains and surfaces (integration domains)\n",
    "ds = ufl.Measure('ds', domain=mesh, subdomain_data=meshtags)\n",
    "dx = ufl.Measure(\"dx\", domain=mesh)"
   ]
  },
  {
   "cell_type": "markdown",
   "id": "a69686a1-b617-4f56-9adf-a9889aff72ea",
   "metadata": {},
   "source": [
    "Define finite element function spaces, test and trial functions"
   ]
  },
  {
   "cell_type": "code",
   "execution_count": 3,
   "id": "43b54e1a-e7ec-4632-9e4f-f015fc6b34f5",
   "metadata": {},
   "outputs": [],
   "source": [
    "V_u = fem.VectorFunctionSpace(mesh, ('CG', 1))       # space for displacement - continuous quadratic space\n",
    "V_f = fem.VectorFunctionSpace(mesh, ('CG', 1))       # space for fibers - continuous linear space\n",
    "du = ufl.TrialFunction(V_u)            # Incremental displacement\n",
    "var_u = ufl.TestFunction(V_u)             # Test function\n",
    "u = fem.Function(V_u, name=\"Displacement\")  # Function to store solution"
   ]
  },
  {
   "cell_type": "markdown",
   "id": "8fff47c2-27db-4494-b91c-dc8fd18bbbb7",
   "metadata": {},
   "source": [
    "Read fibers"
   ]
  },
  {
   "cell_type": "code",
   "execution_count": 4,
   "id": "f39c2f00-4acd-4fb8-a126-2538f2a09374",
   "metadata": {},
   "outputs": [],
   "source": [
    "f = fem.Function(V_f)    # In this tutorial fibers are defined in a linear topology\n",
    "s = fem.Function(V_f)\n",
    "n = fem.Function(V_f)\n",
    "\n",
    "f.vector.array = np.loadtxt(data_path + 'fiber.txt').flatten()\n",
    "s.vector.array = np.loadtxt(data_path + 'sheet.txt').flatten()\n",
    "n.vector.array = np.loadtxt(data_path + 'sheetnormal.txt').flatten()"
   ]
  },
  {
   "cell_type": "markdown",
   "id": "4c45b512-8b2f-4a24-a496-d93cfdf3f5b2",
   "metadata": {},
   "source": [
    "Define kinematics"
   ]
  },
  {
   "cell_type": "code",
   "execution_count": 5,
   "id": "68d0a345-06d9-4983-8c76-88d4f017edc7",
   "metadata": {},
   "outputs": [],
   "source": [
    "dim = len(u)\n",
    "I = ufl.variable(ufl.Identity(dim))\n",
    "F = ufl.variable(I + ufl.grad(u))         # Deformation gradient\n",
    "C = ufl.variable(F.T*F)                   # Right Green-Cauchy tensor\n",
    "\n",
    "# Invariants\n",
    "Ic = ufl.variable(ufl.tr(C))\n",
    "IIIc = ufl.variable(ufl.det(C))\n",
    "Ic_bar = ufl.variable(IIIc**(-1./3.) * Ic)"
   ]
  },
  {
   "cell_type": "markdown",
   "id": "05c20497-91c6-44e3-9fa4-f620c94a1339",
   "metadata": {},
   "source": [
    "Define material law"
   ]
  },
  {
   "cell_type": "code",
   "execution_count": 6,
   "id": "2a359c3c-b9cf-45d2-a047-9727d0c8aa89",
   "metadata": {},
   "outputs": [],
   "source": [
    "mu = fem.Constant(mesh, PETSc.ScalarType(10))\n",
    "Psi_dev = (mu/2.) * (Ic_bar - 3.)\n",
    "K = fem.Constant(mesh, PETSc.ScalarType(100))\n",
    "Psi_vol = (K/2.) * (IIIc - 1.)**2\n",
    "\n",
    "# Get PK1 stress\n",
    "P = 2.*ufl.diff(Psi_dev,F) + 2.*ufl.diff(Psi_vol,F)"
   ]
  },
  {
   "cell_type": "markdown",
   "id": "02e473d4-036b-4063-8f67-28c1cf6c04e9",
   "metadata": {},
   "source": [
    "Define boundary conditions"
   ]
  },
  {
   "cell_type": "code",
   "execution_count": 7,
   "id": "54f56c00-910e-4269-8a00-c6fdb6df7f21",
   "metadata": {},
   "outputs": [],
   "source": [
    "# Boundary conditions\n",
    "# Fixed base\n",
    "u_bc = np.array((0,) * mesh.geometry.dim, dtype=PETSc.ScalarType)\n",
    "base_dofs = fem.locate_dofs_topological(V_u, meshtags.dim, meshtags.find(2))\n",
    "bcs = [fem.dirichletbc(u_bc, base_dofs, V_u)]\n",
    "\n",
    "# Inner pressure\n",
    "lv_pressure = fem.Constant(mesh, PETSc.ScalarType(1))\n",
    "T = -lv_pressure*n0"
   ]
  },
  {
   "cell_type": "markdown",
   "id": "c0a09347-e454-4203-9b9c-b543fb2872a7",
   "metadata": {},
   "source": [
    "Define residual"
   ]
  },
  {
   "cell_type": "code",
   "execution_count": 8,
   "id": "2ed3bccc-daa1-44bf-a7d7-de09aeb18683",
   "metadata": {},
   "outputs": [],
   "source": [
    "# Define residual\n",
    "F = ufl.inner(ufl.grad(var_u), P)*dx\n",
    "F += -ufl.inner(var_u, T)*ds(3)"
   ]
  },
  {
   "cell_type": "markdown",
   "id": "f5a2103f-e2c8-4f80-972b-e97b475bd7ca",
   "metadata": {},
   "source": [
    "Define problem and solve"
   ]
  },
  {
   "cell_type": "code",
   "execution_count": 9,
   "id": "c1d2c341-4c05-4713-9014-615fa8ca02a0",
   "metadata": {},
   "outputs": [],
   "source": [
    "problem = fem.petsc.NonlinearProblem(F, u, bcs)\n",
    "solver = nls.petsc.NewtonSolver(mesh.comm, problem)\n",
    "\n",
    "# Set Newton solver options\n",
    "solver.atol = 1e-8\n",
    "solver.rtol = 1e-8\n",
    "solver.convergence_criterion = \"incremental\"\n",
    "\n",
    "num_its, converged = solver.solve(u)"
   ]
  },
  {
   "cell_type": "code",
   "execution_count": 10,
   "id": "6582de91-e4d5-48a8-937f-81adba70b8d5",
   "metadata": {},
   "outputs": [
    {
     "data": {
      "text/plain": [
       "<petsc4py.PETSc.Vec at 0x117fec400>"
      ]
     },
     "execution_count": 10,
     "metadata": {},
     "output_type": "execute_result"
    }
   ],
   "source": [
    "# Clean\n",
    "f.vector.destroy()\n",
    "s.vector.destroy()\n",
    "n.vector.destroy()\n",
    "u.vector.destroy()"
   ]
  }
 ],
 "metadata": {
  "kernelspec": {
   "display_name": "Python 3 (ipykernel)",
   "language": "python",
   "name": "python3"
  },
  "language_info": {
   "codemirror_mode": {
    "name": "ipython",
    "version": 3
   },
   "file_extension": ".py",
   "mimetype": "text/x-python",
   "name": "python",
   "nbconvert_exporter": "python",
   "pygments_lexer": "ipython3",
   "version": "3.10.12"
  }
 },
 "nbformat": 4,
 "nbformat_minor": 5
}
